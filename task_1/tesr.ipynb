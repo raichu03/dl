{
 "cells": [
  {
   "cell_type": "code",
   "execution_count": 1,
   "metadata": {},
   "outputs": [
    {
     "name": "stdout",
     "output_type": "stream",
     "text": [
      "dict_keys(['__header__', '__version__', '__globals__', 'bearing'])\n"
     ]
    }
   ],
   "source": [
    "import scipy.io\n",
    "\n",
    "# Load the .mat file\n",
    "mat_data = scipy.io.loadmat('data/2 - Three Outer Race Fault Conditions/OuterRaceFault_3.mat')\n",
    "\n",
    "# Access variables in the .mat file\n",
    "print(mat_data.keys())  # List all variables in the file"
   ]
  },
  {
   "cell_type": "code",
   "execution_count": 2,
   "metadata": {},
   "outputs": [],
   "source": [
    "variable = mat_data['bearing']"
   ]
  },
  {
   "cell_type": "code",
   "execution_count": 5,
   "metadata": {},
   "outputs": [
    {
     "data": {
      "text/plain": [
       "array([(array([[25]], dtype=uint8), array([[270]], dtype=uint16), array([[ 0.718744 ],\n",
       "              [ 0.4493211],\n",
       "              [-0.975775 ],\n",
       "              ...,\n",
       "              [ 0.907281 ],\n",
       "              [ 2.090778 ],\n",
       "              [ 1.042275 ]]), array([[97656]], dtype=int32))                          ],\n",
       "      dtype=[('rate', 'O'), ('load', 'O'), ('gs', 'O'), ('sr', 'O')])"
      ]
     },
     "execution_count": 5,
     "metadata": {},
     "output_type": "execute_result"
    }
   ],
   "source": [
    "variable[0]"
   ]
  },
  {
   "cell_type": "code",
   "execution_count": null,
   "metadata": {},
   "outputs": [],
   "source": [
    "label_map = {'1 - Three Baseline Conditions': 0, \n",
    "                '2 - Three Outer Race Fault Conditions': 1, \n",
    "                '3 - Seven More Outer Race Fault Conditions': 2, \n",
    "                '4 - Seven Inner Race Fault Conditions': 3}  # Mapping fault conditions \n"
   ]
  }
 ],
 "metadata": {
  "kernelspec": {
   "display_name": "pt",
   "language": "python",
   "name": "python3"
  },
  "language_info": {
   "codemirror_mode": {
    "name": "ipython",
    "version": 3
   },
   "file_extension": ".py",
   "mimetype": "text/x-python",
   "name": "python",
   "nbconvert_exporter": "python",
   "pygments_lexer": "ipython3",
   "version": "3.10.16"
  }
 },
 "nbformat": 4,
 "nbformat_minor": 2
}
