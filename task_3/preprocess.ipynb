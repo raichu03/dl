{
 "cells": [
  {
   "cell_type": "code",
   "execution_count": 1,
   "metadata": {},
   "outputs": [],
   "source": [
    "import os\n",
    "from PIL import Image\n",
    "import numpy as np\n",
    "\n",
    "from sklearn.model_selection import train_test_split"
   ]
  },
  {
   "cell_type": "code",
   "execution_count": 2,
   "metadata": {},
   "outputs": [],
   "source": [
    "def load_and_convert_image(image_path, target_size=(256, 256)):\n",
    "    \"\"\"Load image and convert to RGB if needed\"\"\"\n",
    "    img = Image.open(image_path)\n",
    "    \n",
    "    # Convert to RGB if image is RGBA or grayscale\n",
    "    if img.mode in ('RGBA', 'LA'):\n",
    "        img = img.convert('RGB')\n",
    "    elif img.mode != 'RGB':\n",
    "        img = img.convert('RGB')\n",
    "    \n",
    "    img = img.resize(target_size)\n",
    "    return np.array(img)"
   ]
  },
  {
   "cell_type": "code",
   "execution_count": 3,
   "metadata": {},
   "outputs": [],
   "source": [
    "def organize_dataset_with_tif(dataset_path, output_path, test_size=0.2, val_size=0.1):\n",
    "    authentic_dir = os.path.join(dataset_path, 'Au')\n",
    "    tampered_dir = os.path.join(dataset_path, 'Tp')\n",
    "    \n",
    "    # Get all image paths (JPG for authentic, TIF for tampered)\n",
    "    authentic_images = [os.path.join(authentic_dir, img) \n",
    "                       for img in os.listdir(authentic_dir) \n",
    "                       if img.lower().endswith('.jpg')]\n",
    "    \n",
    "    tampered_images = [os.path.join(tampered_dir, img) \n",
    "                      for img in os.listdir(tampered_dir) \n",
    "                      if img.lower().endswith('.tif')]\n",
    "    \n",
    "    # Split authentic images\n",
    "    auth_train, auth_test = train_test_split(authentic_images, test_size=test_size, random_state=42)\n",
    "    auth_train, auth_val = train_test_split(auth_train, test_size=val_size/(1-test_size), random_state=42)\n",
    "    \n",
    "    # Split tampered images\n",
    "    tamp_train, tamp_test = train_test_split(tampered_images, test_size=test_size, random_state=42)\n",
    "    tamp_train, tamp_val = train_test_split(tamp_train, test_size=val_size/(1-test_size), random_state=42)\n",
    "    \n",
    "    # Create directories\n",
    "    for split in ['train', 'val', 'test']:\n",
    "        os.makedirs(os.path.join(output_path, split, 'authentic'), exist_ok=True)\n",
    "        os.makedirs(os.path.join(output_path, split, 'tampered'), exist_ok=True)\n",
    "    \n",
    "    # Save images with consistent format (convert TIF to JPG)\n",
    "    def save_images(files, dest_folder, label):\n",
    "        for file in files:\n",
    "            img = load_and_convert_image(file)\n",
    "            filename = os.path.basename(file).split('.')[0] + '.jpg'  # Convert all to JPG\n",
    "            save_path = os.path.join(output_path, dest_folder, label, filename)\n",
    "            Image.fromarray(img).save(save_path, 'JPEG', quality=95)\n",
    "    \n",
    "    save_images(auth_train, 'train', 'authentic')\n",
    "    save_images(auth_val, 'val', 'authentic')\n",
    "    save_images(auth_test, 'test', 'authentic')\n",
    "    save_images(tamp_train, 'train', 'tampered')\n",
    "    save_images(tamp_val, 'val', 'tampered')\n",
    "    save_images(tamp_test, 'test', 'tampered')"
   ]
  },
  {
   "cell_type": "code",
   "execution_count": 4,
   "metadata": {},
   "outputs": [
    {
     "name": "stdout",
     "output_type": "stream",
     "text": [
      "Dataset organized successfully.\n"
     ]
    }
   ],
   "source": [
    "dataset_path = 'CASIA2'\n",
    "output_path = 'dataset'\n",
    "organize_dataset_with_tif(dataset_path, output_path)\n",
    "print(\"Dataset organized successfully.\")"
   ]
  },
  {
   "cell_type": "code",
   "execution_count": null,
   "metadata": {},
   "outputs": [],
   "source": []
  }
 ],
 "metadata": {
  "kernelspec": {
   "display_name": "pt",
   "language": "python",
   "name": "python3"
  },
  "language_info": {
   "codemirror_mode": {
    "name": "ipython",
    "version": 3
   },
   "file_extension": ".py",
   "mimetype": "text/x-python",
   "name": "python",
   "nbconvert_exporter": "python",
   "pygments_lexer": "ipython3",
   "version": "3.10.16"
  }
 },
 "nbformat": 4,
 "nbformat_minor": 2
}
